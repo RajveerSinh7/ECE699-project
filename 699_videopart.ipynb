{
  "nbformat": 4,
  "nbformat_minor": 0,
  "metadata": {
    "colab": {
      "provenance": [],
      "gpuType": "T4"
    },
    "kernelspec": {
      "name": "python3",
      "display_name": "Python 3"
    },
    "language_info": {
      "name": "python"
    },
    "accelerator": "GPU"
  },
  "cells": [
    {
      "cell_type": "code",
      "execution_count": 1,
      "metadata": {
        "id": "zXLthVO9L8fB"
      },
      "outputs": [],
      "source": [
        "import os\n",
        "import cv2\n",
        "import torch\n",
        "import torch.nn as nn\n",
        "import torchvision.transforms as transforms\n",
        "import numpy as np\n",
        "from google.colab import drive\n",
        "from google.colab import files\n",
        "import matplotlib.pyplot as plt"
      ]
    },
    {
      "cell_type": "code",
      "source": [
        "# Mount Google Drive\n",
        "drive.mount('/content/drive')"
      ],
      "metadata": {
        "colab": {
          "base_uri": "https://localhost:8080/"
        },
        "id": "77CACjJeOg4c",
        "outputId": "ed1ffdc6-94ca-46b6-95c2-837bfcbf5c10"
      },
      "execution_count": 2,
      "outputs": [
        {
          "output_type": "stream",
          "name": "stdout",
          "text": [
            "Mounted at /content/drive\n"
          ]
        }
      ]
    },
    {
      "cell_type": "code",
      "source": [
        "# Define Bi-MSAAE Model\n",
        "class MultiScaleEncoder(nn.Module):\n",
        "    def __init__(self):\n",
        "        super().__init__()\n",
        "        self.branch3x3 = nn.Sequential(\n",
        "            nn.Conv2d(1, 1, kernel_size=3, padding=1),\n",
        "            nn.Conv2d(1, 32, kernel_size=1),\n",
        "            nn.BatchNorm2d(32),\n",
        "            nn.ReLU(inplace=True)\n",
        "        )\n",
        "        self.branch5x5 = nn.Sequential(\n",
        "            nn.Conv2d(1, 1, kernel_size=5, padding=2),\n",
        "            nn.Conv2d(1, 32, kernel_size=1),\n",
        "            nn.BatchNorm2d(32),\n",
        "            nn.ReLU(inplace=True)\n",
        "        )\n",
        "\n",
        "    def forward(self, x):\n",
        "        f1 = self.branch3x3(x)\n",
        "        f2 = self.branch5x5(x)\n",
        "        return torch.cat([f1, f2], dim=1)\n",
        "\n",
        "class NoiseGateModule(nn.Module):\n",
        "    def __init__(self, in_channels=64):\n",
        "        super().__init__()\n",
        "        self.conv = nn.Conv2d(in_channels, 1, kernel_size=1)\n",
        "        self.sigmoid = nn.Sigmoid()\n",
        "\n",
        "    def forward(self, x):\n",
        "        mask = self.conv(x)\n",
        "        mask = self.sigmoid(mask)\n",
        "        return x * mask\n",
        "\n",
        "class ChannelAttentionBlock(nn.Module):\n",
        "    def __init__(self, in_channels=64):\n",
        "        super().__init__()\n",
        "        self.avg_pool = nn.AdaptiveAvgPool2d(1)\n",
        "        self.max_pool = nn.AdaptiveMaxPool2d(1)\n",
        "        self.conv = nn.Conv2d(in_channels * 2, in_channels, kernel_size=1)\n",
        "        self.sigmoid = nn.Sigmoid()\n",
        "\n",
        "    def forward(self, x):\n",
        "        avg_out = self.avg_pool(x)\n",
        "        max_out = self.max_pool(x)\n",
        "        pooled = torch.cat([avg_out, max_out], dim=1)\n",
        "        attn = self.conv(pooled)\n",
        "        attn = self.sigmoid(attn)\n",
        "        return x * attn\n",
        "\n",
        "class DualHeadDecoder(nn.Module):\n",
        "    def __init__(self, in_channels=64):\n",
        "        super().__init__()\n",
        "        self.structural_head = nn.Sequential(\n",
        "            nn.Conv2d(in_channels, 1, kernel_size=3, padding=1),\n",
        "            nn.BatchNorm2d(1)\n",
        "        )\n",
        "        self.texture_head = nn.Sequential(\n",
        "            nn.Conv2d(in_channels, 1, kernel_size=5, padding=2),\n",
        "            nn.BatchNorm2d(1)\n",
        "        )\n",
        "        self.alpha = 0.6\n",
        "\n",
        "    def forward(self, x):\n",
        "        struct = self.structural_head(x)\n",
        "        text = self.texture_head(x)\n",
        "        return self.alpha * struct + (1 - self.alpha) * text\n",
        "\n",
        "class BiMSAAE(nn.Module):\n",
        "    def __init__(self):\n",
        "        super().__init__()\n",
        "        self.encoder = MultiScaleEncoder()\n",
        "        self.noise_gate = NoiseGateModule()\n",
        "        self.attention = ChannelAttentionBlock()\n",
        "        self.decoder = DualHeadDecoder()\n",
        "        self.skip_conv = nn.Conv2d(64, 64, kernel_size=1)\n",
        "\n",
        "    def forward(self, x):\n",
        "        f = self.encoder(x)\n",
        "        skip = self.skip_conv(f)\n",
        "        f = self.noise_gate(f)\n",
        "        f = self.attention(f)\n",
        "        f = f + skip\n",
        "        out = self.decoder(f)\n",
        "        return torch.sigmoid(out)\n"
      ],
      "metadata": {
        "id": "6nPx1nhROlbd"
      },
      "execution_count": 3,
      "outputs": []
    },
    {
      "cell_type": "code",
      "source": [
        "# Load model\n",
        "device = torch.device('cuda' if torch.cuda.is_available() else 'cpu')\n",
        "model = BiMSAAE().to(device)\n",
        "model_path = '/content/drive/MyDrive/bi_msaae_model_sigma15_48x48.pth'\n",
        "if not os.path.exists(model_path):\n",
        "    raise FileNotFoundError(f\"Model not found at {model_path}\")\n",
        "model.load_state_dict(torch.load(model_path))\n",
        "model.eval()\n",
        "print(f\"✅ Loaded trained model from {model_path}\")"
      ],
      "metadata": {
        "colab": {
          "base_uri": "https://localhost:8080/"
        },
        "id": "uPuzNPdfOsVt",
        "outputId": "6a6b6079-ac1c-476e-995f-6ed68b7d93dd"
      },
      "execution_count": 22,
      "outputs": [
        {
          "output_type": "stream",
          "name": "stdout",
          "text": [
            "✅ Loaded trained model from /content/drive/MyDrive/bi_msaae_model_sigma15_48x48.pth\n"
          ]
        }
      ]
    },
    {
      "cell_type": "code",
      "source": [
        "# Transform for frames\n",
        "transform = transforms.Compose([\n",
        "    transforms.ToPILImage(),\n",
        "    transforms.Resize((48, 48)),\n",
        "    transforms.Grayscale(),\n",
        "    transforms.ToTensor()\n",
        "])\n"
      ],
      "metadata": {
        "id": "wStDL4jmPHzv"
      },
      "execution_count": 7,
      "outputs": []
    },
    {
      "cell_type": "code",
      "source": [
        "# Function to add Gaussian noise (sigma=15)\n",
        "def add_gaussian_noise(frame, sigma=15):\n",
        "    frame_np = frame.cpu().numpy() if isinstance(frame, torch.Tensor) else frame\n",
        "    noise = np.random.normal(0, sigma/255.0, frame_np.shape)\n",
        "    noisy_frame = frame_np + noise\n",
        "    noisy_frame = np.clip(noisy_frame, 0, 1)\n",
        "    return noisy_frame\n"
      ],
      "metadata": {
        "id": "wAblL01APJ50"
      },
      "execution_count": 8,
      "outputs": []
    },
    {
      "cell_type": "code",
      "source": [
        "# Upload video\n",
        "print(\"Please upload a video file (.mp4, .avi, etc.)\")\n",
        "uploaded = files.upload()\n",
        "if not uploaded:\n",
        "    raise ValueError(\"No video file uploaded\")\n",
        "video_path = list(uploaded.keys())[0]\n",
        "print(f\"Uploaded video: {video_path}\")"
      ],
      "metadata": {
        "colab": {
          "base_uri": "https://localhost:8080/",
          "height": 109
        },
        "id": "z2n0AoIoPLm0",
        "outputId": "4da49268-b87f-44ac-b1bf-3c90182fec33"
      },
      "execution_count": 9,
      "outputs": [
        {
          "output_type": "stream",
          "name": "stdout",
          "text": [
            "Please upload a video file (.mp4, .avi, etc.)\n"
          ]
        },
        {
          "output_type": "display_data",
          "data": {
            "text/plain": [
              "<IPython.core.display.HTML object>"
            ],
            "text/html": [
              "\n",
              "     <input type=\"file\" id=\"files-7bb37970-45ca-49a3-bac5-8f0b9e3b8d00\" name=\"files[]\" multiple disabled\n",
              "        style=\"border:none\" />\n",
              "     <output id=\"result-7bb37970-45ca-49a3-bac5-8f0b9e3b8d00\">\n",
              "      Upload widget is only available when the cell has been executed in the\n",
              "      current browser session. Please rerun this cell to enable.\n",
              "      </output>\n",
              "      <script>// Copyright 2017 Google LLC\n",
              "//\n",
              "// Licensed under the Apache License, Version 2.0 (the \"License\");\n",
              "// you may not use this file except in compliance with the License.\n",
              "// You may obtain a copy of the License at\n",
              "//\n",
              "//      http://www.apache.org/licenses/LICENSE-2.0\n",
              "//\n",
              "// Unless required by applicable law or agreed to in writing, software\n",
              "// distributed under the License is distributed on an \"AS IS\" BASIS,\n",
              "// WITHOUT WARRANTIES OR CONDITIONS OF ANY KIND, either express or implied.\n",
              "// See the License for the specific language governing permissions and\n",
              "// limitations under the License.\n",
              "\n",
              "/**\n",
              " * @fileoverview Helpers for google.colab Python module.\n",
              " */\n",
              "(function(scope) {\n",
              "function span(text, styleAttributes = {}) {\n",
              "  const element = document.createElement('span');\n",
              "  element.textContent = text;\n",
              "  for (const key of Object.keys(styleAttributes)) {\n",
              "    element.style[key] = styleAttributes[key];\n",
              "  }\n",
              "  return element;\n",
              "}\n",
              "\n",
              "// Max number of bytes which will be uploaded at a time.\n",
              "const MAX_PAYLOAD_SIZE = 100 * 1024;\n",
              "\n",
              "function _uploadFiles(inputId, outputId) {\n",
              "  const steps = uploadFilesStep(inputId, outputId);\n",
              "  const outputElement = document.getElementById(outputId);\n",
              "  // Cache steps on the outputElement to make it available for the next call\n",
              "  // to uploadFilesContinue from Python.\n",
              "  outputElement.steps = steps;\n",
              "\n",
              "  return _uploadFilesContinue(outputId);\n",
              "}\n",
              "\n",
              "// This is roughly an async generator (not supported in the browser yet),\n",
              "// where there are multiple asynchronous steps and the Python side is going\n",
              "// to poll for completion of each step.\n",
              "// This uses a Promise to block the python side on completion of each step,\n",
              "// then passes the result of the previous step as the input to the next step.\n",
              "function _uploadFilesContinue(outputId) {\n",
              "  const outputElement = document.getElementById(outputId);\n",
              "  const steps = outputElement.steps;\n",
              "\n",
              "  const next = steps.next(outputElement.lastPromiseValue);\n",
              "  return Promise.resolve(next.value.promise).then((value) => {\n",
              "    // Cache the last promise value to make it available to the next\n",
              "    // step of the generator.\n",
              "    outputElement.lastPromiseValue = value;\n",
              "    return next.value.response;\n",
              "  });\n",
              "}\n",
              "\n",
              "/**\n",
              " * Generator function which is called between each async step of the upload\n",
              " * process.\n",
              " * @param {string} inputId Element ID of the input file picker element.\n",
              " * @param {string} outputId Element ID of the output display.\n",
              " * @return {!Iterable<!Object>} Iterable of next steps.\n",
              " */\n",
              "function* uploadFilesStep(inputId, outputId) {\n",
              "  const inputElement = document.getElementById(inputId);\n",
              "  inputElement.disabled = false;\n",
              "\n",
              "  const outputElement = document.getElementById(outputId);\n",
              "  outputElement.innerHTML = '';\n",
              "\n",
              "  const pickedPromise = new Promise((resolve) => {\n",
              "    inputElement.addEventListener('change', (e) => {\n",
              "      resolve(e.target.files);\n",
              "    });\n",
              "  });\n",
              "\n",
              "  const cancel = document.createElement('button');\n",
              "  inputElement.parentElement.appendChild(cancel);\n",
              "  cancel.textContent = 'Cancel upload';\n",
              "  const cancelPromise = new Promise((resolve) => {\n",
              "    cancel.onclick = () => {\n",
              "      resolve(null);\n",
              "    };\n",
              "  });\n",
              "\n",
              "  // Wait for the user to pick the files.\n",
              "  const files = yield {\n",
              "    promise: Promise.race([pickedPromise, cancelPromise]),\n",
              "    response: {\n",
              "      action: 'starting',\n",
              "    }\n",
              "  };\n",
              "\n",
              "  cancel.remove();\n",
              "\n",
              "  // Disable the input element since further picks are not allowed.\n",
              "  inputElement.disabled = true;\n",
              "\n",
              "  if (!files) {\n",
              "    return {\n",
              "      response: {\n",
              "        action: 'complete',\n",
              "      }\n",
              "    };\n",
              "  }\n",
              "\n",
              "  for (const file of files) {\n",
              "    const li = document.createElement('li');\n",
              "    li.append(span(file.name, {fontWeight: 'bold'}));\n",
              "    li.append(span(\n",
              "        `(${file.type || 'n/a'}) - ${file.size} bytes, ` +\n",
              "        `last modified: ${\n",
              "            file.lastModifiedDate ? file.lastModifiedDate.toLocaleDateString() :\n",
              "                                    'n/a'} - `));\n",
              "    const percent = span('0% done');\n",
              "    li.appendChild(percent);\n",
              "\n",
              "    outputElement.appendChild(li);\n",
              "\n",
              "    const fileDataPromise = new Promise((resolve) => {\n",
              "      const reader = new FileReader();\n",
              "      reader.onload = (e) => {\n",
              "        resolve(e.target.result);\n",
              "      };\n",
              "      reader.readAsArrayBuffer(file);\n",
              "    });\n",
              "    // Wait for the data to be ready.\n",
              "    let fileData = yield {\n",
              "      promise: fileDataPromise,\n",
              "      response: {\n",
              "        action: 'continue',\n",
              "      }\n",
              "    };\n",
              "\n",
              "    // Use a chunked sending to avoid message size limits. See b/62115660.\n",
              "    let position = 0;\n",
              "    do {\n",
              "      const length = Math.min(fileData.byteLength - position, MAX_PAYLOAD_SIZE);\n",
              "      const chunk = new Uint8Array(fileData, position, length);\n",
              "      position += length;\n",
              "\n",
              "      const base64 = btoa(String.fromCharCode.apply(null, chunk));\n",
              "      yield {\n",
              "        response: {\n",
              "          action: 'append',\n",
              "          file: file.name,\n",
              "          data: base64,\n",
              "        },\n",
              "      };\n",
              "\n",
              "      let percentDone = fileData.byteLength === 0 ?\n",
              "          100 :\n",
              "          Math.round((position / fileData.byteLength) * 100);\n",
              "      percent.textContent = `${percentDone}% done`;\n",
              "\n",
              "    } while (position < fileData.byteLength);\n",
              "  }\n",
              "\n",
              "  // All done.\n",
              "  yield {\n",
              "    response: {\n",
              "      action: 'complete',\n",
              "    }\n",
              "  };\n",
              "}\n",
              "\n",
              "scope.google = scope.google || {};\n",
              "scope.google.colab = scope.google.colab || {};\n",
              "scope.google.colab._files = {\n",
              "  _uploadFiles,\n",
              "  _uploadFilesContinue,\n",
              "};\n",
              "})(self);\n",
              "</script> "
            ]
          },
          "metadata": {}
        },
        {
          "output_type": "stream",
          "name": "stdout",
          "text": [
            "Saving 8055708-uhd_3840_2160_30fps (1).mp4 to 8055708-uhd_3840_2160_30fps (1).mp4\n",
            "Uploaded video: 8055708-uhd_3840_2160_30fps (1).mp4\n"
          ]
        }
      ]
    },
    {
      "cell_type": "code",
      "source": [
        "# Read video\n",
        "cap = cv2.VideoCapture(video_path)\n",
        "if not cap.isOpened():\n",
        "    raise ValueError(f\"Could not open video file: {video_path}\")"
      ],
      "metadata": {
        "id": "k2JO9e35POz8"
      },
      "execution_count": 10,
      "outputs": []
    },
    {
      "cell_type": "code",
      "source": [
        "# Get video properties\n",
        "fps = cap.get(cv2.CAP_PROP_FPS)\n",
        "frame_count = int(cap.get(cv2.CAP_PROP_FRAME_COUNT))\n",
        "width = 48  # Output size\n",
        "height = 48\n",
        "print(f\"🎥 Video Info: {frame_count} frames, {fps:.2f} FPS, output size: {width}x{height}\")"
      ],
      "metadata": {
        "colab": {
          "base_uri": "https://localhost:8080/"
        },
        "id": "5w4HUzOGPTQp",
        "outputId": "182b7814-4a26-48e9-f98b-2c837c892f3e"
      },
      "execution_count": 11,
      "outputs": [
        {
          "output_type": "stream",
          "name": "stdout",
          "text": [
            "🎥 Video Info: 237 frames, 29.97 FPS, output size: 48x48\n"
          ]
        }
      ]
    },
    {
      "cell_type": "code",
      "source": [
        "# Prepare output videos\n",
        "fourcc = cv2.VideoWriter_fourcc(*'mp4v')\n",
        "original_out = cv2.VideoWriter(os.path.join(output_dir, 'original_video.mp4'), fourcc, fps, (width, height), isColor=False)\n",
        "noisy_out = cv2.VideoWriter(os.path.join(output_dir, 'noisy_video_sigma15.mp4'), fourcc, fps, (width, height), isColor=False)\n",
        "denoised_out = cv2.VideoWriter(os.path.join(output_dir, 'denoised_video.mp4'), fourcc, fps, (width, height), isColor=False)\n"
      ],
      "metadata": {
        "id": "ZxBgR_6qPVM3"
      },
      "execution_count": 12,
      "outputs": []
    },
    {
      "cell_type": "code",
      "source": [
        "# Process frames\n",
        "frame_idx = 0\n",
        "while cap.isOpened():\n",
        "    ret, frame = cap.read()\n",
        "    if not ret:\n",
        "        break\n",
        "\n",
        "    # Convert frame to grayscale and resize\n",
        "    frame_tensor = transform(frame).to(device)\n",
        "\n",
        "    # Add noise\n",
        "    noisy_frame = add_gaussian_noise(frame_tensor, sigma=15)\n",
        "    noisy_tensor = torch.tensor(noisy_frame, dtype=torch.float32).to(device)\n",
        "\n",
        "    # Denoise\n",
        "    with torch.no_grad():\n",
        "        denoised_tensor = model(noisy_tensor.unsqueeze(0)).squeeze(0)\n",
        "\n",
        "    # Convert tensors to OpenCV format (uint8, 48x48, grayscale)\n",
        "    original_frame = (frame_tensor.cpu().numpy().squeeze() * 255).astype(np.uint8)\n",
        "    noisy_frame = (noisy_frame.squeeze() * 255).astype(np.uint8)\n",
        "    denoised_frame = (denoised_tensor.cpu().numpy().squeeze() * 255).astype(np.uint8)\n",
        "\n",
        "    # Write frames to videos\n",
        "    original_out.write(original_frame)\n",
        "    noisy_out.write(noisy_frame)\n",
        "    denoised_out.write(denoised_frame)\n",
        "\n",
        "    frame_idx += 1\n",
        "    if frame_idx % 100 == 0:\n",
        "        print(f\"📊 Processed {frame_idx}/{frame_count} frames\")"
      ],
      "metadata": {
        "colab": {
          "base_uri": "https://localhost:8080/"
        },
        "id": "i-69EFKePXts",
        "outputId": "1f797f0a-1aa0-436f-fcc6-559dfdb05247"
      },
      "execution_count": 13,
      "outputs": [
        {
          "output_type": "stream",
          "name": "stdout",
          "text": [
            "📊 Processed 100/237 frames\n",
            "📊 Processed 200/237 frames\n"
          ]
        }
      ]
    },
    {
      "cell_type": "code",
      "source": [
        "# Release resources\n",
        "cap.release()\n",
        "original_out.release()\n",
        "noisy_out.release()\n",
        "denoised_out.release()\n",
        "print(f\"✅ Processing complete. Videos saved to {output_dir}:\")\n",
        "print(f\"  - original_video.mp4\")\n",
        "print(f\"  - noisy_video_sigma15.mp4\")\n",
        "print(f\"  - denoised_video.mp4\")"
      ],
      "metadata": {
        "colab": {
          "base_uri": "https://localhost:8080/"
        },
        "id": "d4a6CutKPaNG",
        "outputId": "eef3781f-737d-489e-8b57-5652be814f20"
      },
      "execution_count": 14,
      "outputs": [
        {
          "output_type": "stream",
          "name": "stdout",
          "text": [
            "✅ Processing complete. Videos saved to /content/drive/MyDrive/denoised_samples_grayscale_sigma15:\n",
            "  - original_video.mp4\n",
            "  - noisy_video_sigma15.mp4\n",
            "  - denoised_video.mp4\n"
          ]
        }
      ]
    },
    {
      "cell_type": "code",
      "source": [
        "\n",
        "# Display sample frame (first frame for visualization)\n",
        "cap = cv2.VideoCapture(video_path)\n",
        "ret, frame = cap.read()\n",
        "if ret:\n",
        "    frame_tensor = transform(frame).to(device)\n",
        "    noisy_frame = add_gaussian_noise(frame_tensor, sigma=15)\n",
        "    with torch.no_grad():\n",
        "        denoised_tensor = model(torch.tensor(noisy_frame, dtype=torch.float32).unsqueeze(0).to(device)).squeeze(0)\n",
        "\n",
        "    plt.figure(figsize=(12, 4))\n",
        "    plt.subplot(1, 3, 1)\n",
        "    plt.imshow(frame_tensor.cpu().squeeze(), cmap='gray')\n",
        "    plt.title('Original Frame')\n",
        "    plt.axis('off')\n",
        "    plt.subplot(1, 3, 2)\n",
        "    plt.imshow(noisy_frame.squeeze(), cmap='gray')\n",
        "    plt.title('Noisy Frame (σ=15)')\n",
        "    plt.axis('off')\n",
        "    plt.subplot(1, 3, 3)\n",
        "    plt.imshow(denoised_tensor.cpu().squeeze(), cmap='gray')\n",
        "    plt.title('Denoised Frame')\n",
        "    plt.axis('off')\n",
        "    plt.tight_layout()\n",
        "    sample_path = os.path.join(output_dir, 'sample_frame_comparison.jpg')\n",
        "    plt.savefig(sample_path)\n",
        "    plt.show()\n",
        "    print(f\"📷 Sample frame comparison saved to {sample_path}\")\n",
        "\n",
        "cap.release()"
      ],
      "metadata": {
        "colab": {
          "base_uri": "https://localhost:8080/",
          "height": 442
        },
        "id": "K8u51FJyPdqq",
        "outputId": "536dcf0a-47c8-4daf-afd2-c06284417c5f"
      },
      "execution_count": 15,
      "outputs": [
        {
          "output_type": "display_data",
          "data": {
            "text/plain": [
              "<Figure size 1200x400 with 3 Axes>"
            ],
            "image/png": "[encoded data removed]"
          },
          "metadata": {}
        },
        {
          "output_type": "stream",
          "name": "stdout",
          "text": [
            "📷 Sample frame comparison saved to /content/drive/MyDrive/denoised_samples_grayscale_sigma15/sample_frame_comparison.jpg\n"
          ]
        }
      ]
    },
    {
      "cell_type": "code",
      "source": [],
      "metadata": {
        "id": "JyVGga6qPg3d"
      },
      "execution_count": null,
      "outputs": []
    }
  ]
}