{
  "nbformat": 4,
  "nbformat_minor": 0,
  "metadata": {
    "colab": {
      "provenance": []
    },
    "kernelspec": {
      "name": "python3",
      "display_name": "Python 3"
    },
    "language_info": {
      "name": "python"
    }
  },
  "cells": [
    {
      "cell_type": "code",
      "execution_count": 1,
      "metadata": {
        "id": "uBqRyLPq1nbb"
      },
      "outputs": [],
      "source": [
        "import os\n",
        "import glob\n",
        "import numpy as np\n",
        "from PIL import Image\n",
        "from google.colab import drive"
      ]
    },
    {
      "cell_type": "code",
      "source": [
        "# Mount Google Drive\n",
        "drive.mount('/content/drive')"
      ],
      "metadata": {
        "colab": {
          "base_uri": "https://localhost:8080/"
        },
        "id": "5rZu7MTA1yBk",
        "outputId": "72dfeb73-0cb3-4d3a-86df-fe23134d58c5"
      },
      "execution_count": 2,
      "outputs": [
        {
          "output_type": "stream",
          "name": "stdout",
          "text": [
            "Drive already mounted at /content/drive; to attempt to forcibly remount, call drive.mount(\"/content/drive\", force_remount=True).\n"
          ]
        }
      ]
    },
    {
      "cell_type": "code",
      "source": [
        "# Define dataset paths\n",
        "base_path = '/content/drive/MyDrive/DATASET'\n",
        "splits = {\n",
        "    'Train': os.path.join(base_path, 'Train'),\n",
        "    'Validate': os.path.join(base_path, 'Validate'),\n",
        "    'Test': os.path.join(base_path, 'Test')\n",
        "}\n",
        "sigma = 15  # Noise level σ = 15\n",
        "image_size = (128, 128)  # Resize to 128x128"
      ],
      "metadata": {
        "id": "TaCPHJao10DA"
      },
      "execution_count": 3,
      "outputs": []
    },
    {
      "cell_type": "code",
      "source": [
        "# Verify folder existence\n",
        "for split, path in splits.items():\n",
        "    if not os.path.exists(path):\n",
        "        raise FileNotFoundError(f\"Folder not found: {path}. Run the path listing code to confirm the correct path.\")\n",
        "    print(f\"Found {split} folder: {path}\")"
      ],
      "metadata": {
        "colab": {
          "base_uri": "https://localhost:8080/"
        },
        "id": "WM7xZcR92Fdc",
        "outputId": "243744f2-89b3-42b4-fedd-abe04ee1f4c2"
      },
      "execution_count": 4,
      "outputs": [
        {
          "output_type": "stream",
          "name": "stdout",
          "text": [
            "Found Train folder: /content/drive/MyDrive/DATASET/Train\n",
            "Found Validate folder: /content/drive/MyDrive/DATASET/Validate\n",
            "Found Test folder: /content/drive/MyDrive/DATASET/Test\n"
          ]
        }
      ]
    },
    {
      "cell_type": "code",
      "source": [
        "# Function to add Gaussian noise\n",
        "def add_gaussian_noise(image, sigma):\n",
        "    img_array = np.array(image).astype(np.float32) / 255.0\n",
        "    noise = np.random.normal(0, sigma / 255.0, img_array.shape)\n",
        "    noisy_img = np.clip(img_array + noise, 0, 1) * 255.0\n",
        "    return Image.fromarray(noisy_img.astype(np.uint8))"
      ],
      "metadata": {
        "id": "FQDeRBbD2Hl5"
      },
      "execution_count": 5,
      "outputs": []
    },
    {
      "cell_type": "code",
      "source": [
        "# Loop through dataset splits\n",
        "for split in splits:\n",
        "    clean_path = splits[split]\n",
        "    # Collect clean images recursively (JPG or PNG)\n",
        "    clean_files = sorted(glob.glob(os.path.join(clean_path, '**', '*.jpg'), recursive=True) +\n",
        "                         glob.glob(os.path.join(clean_path, '**', '*.png'), recursive=True))\n",
        "    clean_files = [f for f in clean_files if 'noisy_sigma' not in f]\n",
        "\n",
        "    if not clean_files:\n",
        "        raise ValueError(f\"No images found in {clean_path}\")\n",
        "\n",
        "    print(f\"Processing {split} with sigma={sigma} ({len(clean_files)} images)...\")\n",
        "\n",
        "    for clean_file in clean_files:\n",
        "        # Load and resize image to 128x128 in RGB\n",
        "        clean_img = Image.open(clean_file).convert('RGB').resize(image_size, Image.Resampling.LANCZOS)\n",
        "\n",
        "        # Add Gaussian noise\n",
        "        noisy_img = add_gaussian_noise(clean_img, sigma)\n",
        "\n",
        "        # Construct output path\n",
        "        rel_path = os.path.relpath(clean_file, clean_path)\n",
        "        noisy_dir = os.path.join(clean_path, f'noisy_sigma{sigma}', os.path.dirname(rel_path))\n",
        "        os.makedirs(noisy_dir, exist_ok=True)\n",
        "\n",
        "        # Save noisy image as PNG\n",
        "        output_file = os.path.join(noisy_dir, os.path.basename(clean_file).rsplit('.', 1)[0] + '.png')\n",
        "        noisy_img.save(output_file, 'PNG')\n",
        "\n",
        "        # Optionally resize and save clean image as PNG\n",
        "        clean_output_file = os.path.join(clean_path, rel_path.rsplit('.', 1)[0] + '.png')\n",
        "        os.makedirs(os.path.dirname(clean_output_file), exist_ok=True)\n",
        "        clean_img.save(clean_output_file, 'PNG')\n",
        "\n",
        "    print(f\"Saved {len(clean_files)} noisy (sigma={sigma}) and clean images to {clean_path}\")\n",
        "\n",
        "print(\"All done! Noisy and clean RGB images (128x128, sigma=15) are saved in each split.\")"
      ],
      "metadata": {
        "colab": {
          "base_uri": "https://localhost:8080/"
        },
        "id": "kn9HTWZD2MVT",
        "outputId": "7d21adb7-e695-44ed-8bb1-d54c574535b0"
      },
      "execution_count": 6,
      "outputs": [
        {
          "output_type": "stream",
          "name": "stdout",
          "text": [
            "Processing Train with sigma=15 (7998 images)...\n",
            "Saved 7998 noisy (sigma=15) and clean images to /content/drive/MyDrive/DATASET/Train\n",
            "Processing Validate with sigma=15 (1001 images)...\n",
            "Saved 1001 noisy (sigma=15) and clean images to /content/drive/MyDrive/DATASET/Validate\n",
            "Processing Test with sigma=15 (1003 images)...\n",
            "Saved 1003 noisy (sigma=15) and clean images to /content/drive/MyDrive/DATASET/Test\n",
            "All done! Noisy and clean RGB images (128x128, sigma=15) are saved in each split.\n"
          ]
        }
      ]
    },
    {
      "cell_type": "code",
      "source": [],
      "metadata": {
        "id": "hLNiULXH2QK0"
      },
      "execution_count": null,
      "outputs": []
    }
  ]
}