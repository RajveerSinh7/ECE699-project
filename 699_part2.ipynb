{
  "nbformat": 4,
  "nbformat_minor": 0,
  "metadata": {
    "colab": {
      "provenance": []
    },
    "kernelspec": {
      "name": "python3",
      "display_name": "Python 3"
    },
    "language_info": {
      "name": "python"
    }
  },
  "cells": [
    {
      "cell_type": "markdown",
      "source": [],
      "metadata": {
        "id": "6lZqkmcIUCWc"
      }
    },
    {
      "cell_type": "markdown",
      "source": [
        "# ***Generating & saving Noisy images with sigma=10***"
      ],
      "metadata": {
        "id": "9nHXpgzfI-Xm"
      }
    },
    {
      "cell_type": "code",
      "source": [
        "import os\n",
        "import glob\n",
        "import numpy as np\n",
        "from PIL import Image\n",
        "from google.colab import drive"
      ],
      "metadata": {
        "id": "BNUlOH0W7YSC"
      },
      "execution_count": 30,
      "outputs": []
    },
    {
      "cell_type": "code",
      "source": [
        "# Mount Google Drive\n",
        "drive.mount('/content/drive')"
      ],
      "metadata": {
        "colab": {
          "base_uri": "https://localhost:8080/"
        },
        "id": "Z7dpyq-f7Z9_",
        "outputId": "b7e8581b-b374-4d73-dca5-31ca557bf63c"
      },
      "execution_count": 31,
      "outputs": [
        {
          "output_type": "stream",
          "name": "stdout",
          "text": [
            "Drive already mounted at /content/drive; to attempt to forcibly remount, call drive.mount(\"/content/drive\", force_remount=True).\n"
          ]
        }
      ]
    },
    {
      "cell_type": "code",
      "source": [
        "# Define dataset paths\n",
        "base_path = '/content/drive/MyDrive/DATASET'\n",
        "splits = {\n",
        "    'train': os.path.join(base_path, 'Train'),\n",
        "    'validate': os.path.join(base_path, 'Validate'),\n",
        "    'test': os.path.join(base_path, 'Test')\n",
        "}\n",
        "sigma_levels = [15, 25, 50]"
      ],
      "metadata": {
        "id": "3Jp4Y7eJ7bPG"
      },
      "execution_count": 33,
      "outputs": []
    },
    {
      "cell_type": "code",
      "source": [
        "# Verify folder existence\n",
        "for split, path in splits.items():\n",
        "    if not os.path.exists(path):\n",
        "        raise FileNotFoundError(f\"Folder not found: {path}. Run the path listing code to confirm the correct path.\")\n",
        "    print(f\"Found {split} folder: {path}\")"
      ],
      "metadata": {
        "colab": {
          "base_uri": "https://localhost:8080/"
        },
        "id": "_8rND7Wx7c-P",
        "outputId": "15a962a7-309c-4da2-e2f4-6c2719ba344a"
      },
      "execution_count": 34,
      "outputs": [
        {
          "output_type": "stream",
          "name": "stdout",
          "text": [
            "Found train folder: /content/drive/MyDrive/DATASET/Train\n",
            "Found validate folder: /content/drive/MyDrive/DATASET/Validate\n",
            "Found test folder: /content/drive/MyDrive/DATASET/Test\n"
          ]
        }
      ]
    },
    {
      "cell_type": "code",
      "source": [
        "# Function to add Gaussian noise\n",
        "def add_gaussian_noise(image, sigma):\n",
        "    img_array = np.array(image).astype(np.float32) / 255.0\n",
        "    noise = np.random.normal(0, sigma / 255.0, img_array.shape)\n",
        "    noisy_img = np.clip(img_array + noise, 0, 1) * 255.0\n",
        "    return Image.fromarray(noisy_img.astype(np.uint8))"
      ],
      "metadata": {
        "id": "DcXv6kJS7jF6"
      },
      "execution_count": 35,
      "outputs": []
    },
    {
      "cell_type": "code",
      "source": [
        "import os\n",
        "import glob\n",
        "from PIL import Image\n",
        "import numpy as np\n",
        "\n",
        "# Function to add Gaussian noise\n",
        "def add_gaussian_noise(image, sigma):\n",
        "    img_array = np.array(image).astype(np.float32)\n",
        "    noise = np.random.normal(0, sigma, img_array.shape)\n",
        "    noisy_array = np.clip(img_array + noise, 0, 255).astype(np.uint8)\n",
        "    return Image.fromarray(noisy_array)\n",
        "\n",
        "# Dataset paths\n",
        "splits = {\n",
        "    'Train': '/content/drive/MyDrive/DATASET/Train',\n",
        "    'Test': '/content/drive/MyDrive/DATASET/Test',\n",
        "    'Validate': '/content/drive/MyDrive/DATASET/Validate'\n",
        "}\n",
        "\n",
        "sigma = 10  # Only one noise level\n",
        "\n",
        "# Loop through dataset splits\n",
        "for split in splits:\n",
        "    clean_path = splits[split]\n",
        "    clean_files = sorted(glob.glob(os.path.join(clean_path, '**', '*.jpg'), recursive=True))\n",
        "\n",
        "    if not clean_files:\n",
        "        raise ValueError(f\"No images found in {clean_path}\")\n",
        "\n",
        "    print(f\"Processing {split} with sigma={sigma}...\")\n",
        "\n",
        "    for clean_file in clean_files:\n",
        "        # Load image in RGB\n",
        "        clean_img = Image.open(clean_file).convert('RGB')\n",
        "\n",
        "        # Add Gaussian noise\n",
        "        noisy_img = add_gaussian_noise(clean_img, sigma)\n",
        "\n",
        "        # Construct output path\n",
        "        rel_path = os.path.relpath(clean_file, clean_path)\n",
        "        noisy_dir = os.path.join(clean_path, f'noisy_sigma{sigma}', os.path.dirname(rel_path))\n",
        "        os.makedirs(noisy_dir, exist_ok=True)\n",
        "\n",
        "        # Save noisy image\n",
        "        output_file = os.path.join(noisy_dir, os.path.basename(clean_file))\n",
        "        noisy_img.save(output_file, 'JPEG')\n",
        "\n",
        "    print(f\" Saved noisy images for {split} (sigma={sigma})\")\n",
        "\n",
        "print(\"All done! Noisy RGB images with sigma=10 are saved in each split.\")"
      ],
      "metadata": {
        "colab": {
          "base_uri": "https://localhost:8080/"
        },
        "id": "HUsR7wp08yZe",
        "outputId": "57b388e6-b8db-4873-a845-2cdfc2273b49"
      },
      "execution_count": 38,
      "outputs": [
        {
          "output_type": "stream",
          "name": "stdout",
          "text": [
            "Processing Train with sigma=10...\n",
            " Saved noisy images for Train (sigma=10)\n",
            "Processing Test with sigma=10...\n",
            " Saved noisy images for Test (sigma=10)\n",
            "Processing Validate with sigma=10...\n",
            " Saved noisy images for Validate (sigma=10)\n",
            "All done! Noisy RGB images with sigma=10 are saved in each split.\n"
          ]
        }
      ]
    },
    {
      "cell_type": "code",
      "source": [],
      "metadata": {
        "id": "25ag812y-VV5"
      },
      "execution_count": null,
      "outputs": []
    }
  ]
}