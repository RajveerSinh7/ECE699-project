{
  "nbformat": 4,
  "nbformat_minor": 0,
  "metadata": {
    "colab": {
      "provenance": [],
      "gpuType": "T4"
    },
    "kernelspec": {
      "name": "python3",
      "display_name": "Python 3"
    },
    "language_info": {
      "name": "python"
    },
    "accelerator": "GPU"
  },
  "cells": [
    {
      "cell_type": "markdown",
      "source": [
        "# ***Creating Noisy images with sigma = 15***"
      ],
      "metadata": {
        "id": "CZBUiXt_b5Bi"
      }
    },
    {
      "cell_type": "code",
      "execution_count": 5,
      "metadata": {
        "id": "RWxbQkgDeaHL"
      },
      "outputs": [],
      "source": [
        "import os\n",
        "import glob\n",
        "import numpy as np\n",
        "from PIL import Image\n",
        "from google.colab import drive"
      ]
    },
    {
      "cell_type": "code",
      "source": [
        "# Define dataset paths\n",
        "base_path = '/content/drive/MyDrive/optimaldataset'\n",
        "splits = {\n",
        "    'Train': os.path.join(base_path, 'Train'),\n",
        "    'Validate': os.path.join(base_path, 'Validate'),\n",
        "    'Test': os.path.join(base_path, 'Test')\n",
        "}\n",
        "sigma = 15\n",
        "image_size = (256, 256)"
      ],
      "metadata": {
        "id": "Yd7L2yTqX27z"
      },
      "execution_count": 6,
      "outputs": []
    },
    {
      "cell_type": "code",
      "source": [
        "# Verify folder existence\n",
        "for split, path in splits.items():\n",
        "    if not os.path.exists(path):\n",
        "        raise FileNotFoundError(f\"Folder not found: {path}\")\n",
        "    print(f\"Found {split} folder: {path}\")\n"
      ],
      "metadata": {
        "colab": {
          "base_uri": "https://localhost:8080/"
        },
        "id": "EME_CpgkYDG3",
        "outputId": "0d90ea04-aeeb-4324-d4a4-9eaee39d56e1"
      },
      "execution_count": 8,
      "outputs": [
        {
          "output_type": "stream",
          "name": "stdout",
          "text": [
            "Found Train folder: /content/drive/MyDrive/optimaldataset/Train\n",
            "Found Validate folder: /content/drive/MyDrive/optimaldataset/Validate\n",
            "Found Test folder: /content/drive/MyDrive/optimaldataset/Test\n"
          ]
        }
      ]
    },
    {
      "cell_type": "code",
      "source": [
        "# Function to add Gaussian noise\n",
        "def add_gaussian_noise(image, sigma):\n",
        "    img_array = np.array(image).astype(np.float32) / 255.0\n",
        "    noise = np.random.normal(0, sigma / 255.0, img_array.shape)\n",
        "    noisy_img = np.clip(img_array + noise, 0, 1) * 255.0\n",
        "    return Image.fromarray(noisy_img.astype(np.uint8))"
      ],
      "metadata": {
        "id": "tgp6CrORYFES"
      },
      "execution_count": 9,
      "outputs": []
    },
    {
      "cell_type": "code",
      "source": [
        "# Process each split\n",
        "for split in splits:\n",
        "    clean_path = splits[split]\n",
        "    clean_files = sorted(glob.glob(os.path.join(clean_path, '**', '*.jpg'), recursive=True))\n",
        "    if not clean_files:\n",
        "        raise ValueError(f\"No .jpg images found in {clean_path}\")\n",
        "    print(f\"Processing {split} with sigma={sigma} ({len(clean_files)} images)...\")\n",
        "\n",
        "    for clean_file in clean_files:\n",
        "        clean_img = Image.open(clean_file).convert('RGB').resize(image_size, Image.Resampling.LANCZOS)\n",
        "        noisy_img = add_gaussian_noise(clean_img, sigma)\n",
        "        rel_path = os.path.relpath(clean_file, clean_path)\n",
        "        noisy_dir = os.path.join(clean_path, f'noisy_sigma{sigma}', os.path.dirname(rel_path))\n",
        "        os.makedirs(noisy_dir, exist_ok=True)\n",
        "        output_file = os.path.join(noisy_dir, os.path.basename(clean_file).rsplit('.', 1)[0] + '.png')\n",
        "        noisy_img.save(output_file, 'PNG')\n",
        "        clean_output_file = os.path.join(clean_path, rel_path.rsplit('.', 1)[0] + '.png')\n",
        "        os.makedirs(os.path.dirname(clean_output_file), exist_ok=True)\n",
        "        clean_img.save(clean_output_file, 'PNG')\n",
        "\n",
        "    print(f\"Saved {len(clean_files)} noisy (sigma={sigma}) and clean .png images to {clean_path}\")\n",
        "\n",
        "print(\"All done! Noisy and clean RGB images (256x256, sigma=15) saved as .png in each split.\")"
      ],
      "metadata": {
        "id": "uA2VDwduYq9E"
      },
      "execution_count": null,
      "outputs": []
    }
  ]
}